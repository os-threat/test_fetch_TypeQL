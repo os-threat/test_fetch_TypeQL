{
 "cells": [
  {
   "cell_type": "markdown",
   "id": "f292ca28",
   "metadata": {},
   "source": [
    "# Test for Fetch or Optional\n",
    "\n",
    "## 1. Aim\n",
    "\n",
    "## Needs TypeDB v2.24 \n",
    "\n",
    "To generate complex variations of objects to see if they can be solved by Fetch, or require Optional capabilities:\n",
    "\n",
    "1. **File SCO:** Create variations on File, including:\n",
    "    1. Basic File, \n",
    "    2. Basic File with Granular Markings, \n",
    "    3. Basic File with Embedded References, \n",
    "    4. Basic File with Hashes\n",
    "    5. Basic File with Extension\n",
    "    6. Basic File with Extension, where Extension has Embedded Reference\n",
    "    7. Basic File with Extension, where Extension has Hashes\n",
    "    8. Basic File with Extension, where Extension has embedded dict\n",
    "    9. Basic File with Extension, where Extension has sub-object\n",
    "    10. Basic File with Extension, where Extension has list of sub-objects\n",
    "    11. Basic File with Extension, where Extension has list of sub-objects that contain hashes\n",
    " \n",
    "## 2. Imports"
   ]
  },
  {
   "cell_type": "code",
   "execution_count": 142,
   "id": "fc2bb39c",
   "metadata": {},
   "outputs": [
    {
     "name": "stdout",
     "output_type": "stream",
     "text": [
      "Requirement already satisfied: stixorm in c:\\python311\\lib\\site-packages (0.3.2)\n",
      "Requirement already satisfied: loguru<0.8.0,>=0.7.0 in c:\\python311\\lib\\site-packages (from stixorm) (0.7.2)\n",
      "Requirement already satisfied: networkx<4.0,>=3.1 in c:\\python311\\lib\\site-packages (from stixorm) (3.2.1)\n",
      "Requirement already satisfied: pydantic<3.0.0,>=2.1.1 in c:\\python311\\lib\\site-packages (from stixorm) (2.5.2)\n",
      "Requirement already satisfied: stix2==3.0.1 in c:\\python311\\lib\\site-packages (from stixorm) (3.0.1)\n",
      "Requirement already satisfied: typedb-driver<3.0.0,>=2.25.6 in c:\\python311\\lib\\site-packages (from stixorm) (2.25.7)\n",
      "Requirement already satisfied: validators<0.21.0,>=0.20.0 in c:\\python311\\lib\\site-packages (from stixorm) (0.20.0)\n",
      "Requirement already satisfied: pytz in c:\\python311\\lib\\site-packages (from stix2==3.0.1->stixorm) (2023.3.post1)\n",
      "Requirement already satisfied: requests in c:\\python311\\lib\\site-packages (from stix2==3.0.1->stixorm) (2.31.0)\n",
      "Requirement already satisfied: simplejson in c:\\python311\\lib\\site-packages (from stix2==3.0.1->stixorm) (3.19.2)\n",
      "Requirement already satisfied: stix2-patterns>=1.2.0 in c:\\python311\\lib\\site-packages (from stix2==3.0.1->stixorm) (2.0.0)\n",
      "Requirement already satisfied: colorama>=0.3.4 in c:\\python311\\lib\\site-packages (from loguru<0.8.0,>=0.7.0->stixorm) (0.4.6)\n",
      "Requirement already satisfied: win32-setctime>=1.0.0 in c:\\python311\\lib\\site-packages (from loguru<0.8.0,>=0.7.0->stixorm) (1.1.0)\n",
      "Requirement already satisfied: annotated-types>=0.4.0 in c:\\python311\\lib\\site-packages (from pydantic<3.0.0,>=2.1.1->stixorm) (0.6.0)\n",
      "Requirement already satisfied: pydantic-core==2.14.5 in c:\\python311\\lib\\site-packages (from pydantic<3.0.0,>=2.1.1->stixorm) (2.14.5)\n",
      "Requirement already satisfied: typing-extensions>=4.6.1 in c:\\python311\\lib\\site-packages (from pydantic<3.0.0,>=2.1.1->stixorm) (4.8.0)\n",
      "Requirement already satisfied: parse==1.18.0 in c:\\python311\\lib\\site-packages (from typedb-driver<3.0.0,>=2.25.6->stixorm) (1.18.0)\n",
      "Requirement already satisfied: decorator>=3.4.0 in c:\\python311\\lib\\site-packages (from validators<0.21.0,>=0.20.0->stixorm) (5.1.1)\n",
      "Requirement already satisfied: antlr4-python3-runtime~=4.9.0 in c:\\python311\\lib\\site-packages (from stix2-patterns>=1.2.0->stix2==3.0.1->stixorm) (4.9.3)\n",
      "Requirement already satisfied: six in c:\\python311\\lib\\site-packages (from stix2-patterns>=1.2.0->stix2==3.0.1->stixorm) (1.16.0)\n",
      "Requirement already satisfied: charset-normalizer<4,>=2 in c:\\python311\\lib\\site-packages (from requests->stix2==3.0.1->stixorm) (3.3.2)\n",
      "Requirement already satisfied: idna<4,>=2.5 in c:\\python311\\lib\\site-packages (from requests->stix2==3.0.1->stixorm) (3.6)\n",
      "Requirement already satisfied: urllib3<3,>=1.21.1 in c:\\python311\\lib\\site-packages (from requests->stix2==3.0.1->stixorm) (2.1.0)\n",
      "Requirement already satisfied: certifi>=2017.4.17 in c:\\python311\\lib\\site-packages (from requests->stix2==3.0.1->stixorm) (2023.11.17)\n"
     ]
    },
    {
     "name": "stderr",
     "output_type": "stream",
     "text": [
      "\n",
      "[notice] A new release of pip available: 22.3.1 -> 23.3.1\n",
      "[notice] To update, run: python.exe -m pip install --upgrade pip\n"
     ]
    }
   ],
   "source": [
    "import sys\n",
    "!{sys.executable} -m pip install stixorm\n",
    "from stixorm.module.typedb import TypeDBSink, TypeDBSource\n",
    "from stixorm.module.authorise import import_type_factory\n",
    "from stixorm.module.definitions.stix21 import (\n",
    "    WindowsPEBinaryExt, PDFExt, Bundle, File, RasterImageExt,\n",
    "    WindowsPEOptionalHeaderType, WindowsPESection, ArchiveExt,\n",
    "    AlternateDataStream, NTFSExt, Directory\n",
    ")\n",
    "from stixorm.module.authorise import import_type_factory\n",
    "from stixorm.module.typedb_lib.instructions import ResultStatus, Result\n",
    "import_type = import_type_factory.get_all_imports()\n",
    "import logging\n",
    "logger = logging.getLogger(__name__)\n",
    "logger.setLevel(logging.INFO)"
   ]
  },
  {
   "cell_type": "markdown",
   "id": "3b1a9945",
   "metadata": {},
   "source": [
    "## 3. Setup Variables Need for File Setup\n"
   ]
  },
  {
   "cell_type": "code",
   "execution_count": 143,
   "id": "a2ebbe42",
   "metadata": {},
   "outputs": [],
   "source": [
    "hash_dict1 = {\n",
    "        \"MD5\": \"a92e5b2bae0b4b3a3d81c85610b95cd4\",\n",
    "        \"SHA-1\": \"5374e08903744ceeaedd8f5e1bfc06b2c4688e76\"\n",
    "    }\n",
    "\n",
    "# Granular Marking details\n",
    "red_id = \"marking-definition--5e57c739-391a-4eb3-b6be-7d15ca92d5ed\"\n",
    "name_selector = [ \"name\" ]\n",
    "name_gran_mark = [ { \"marking_ref\": red_id, \"selectors\": name_selector}]\n",
    "names = []\n",
    "middle = []"
   ]
  },
  {
   "cell_type": "markdown",
   "id": "3ba722f4",
   "metadata": {},
   "source": [
    "## 4. Setup File Objects\n",
    "\n",
    "### A. Basic File Object"
   ]
  },
  {
   "cell_type": "code",
   "execution_count": 144,
   "id": "d853f921",
   "metadata": {},
   "outputs": [
    {
     "name": "stdout",
     "output_type": "stream",
     "text": [
      "{\n",
      "    \"type\": \"file\",\n",
      "    \"spec_version\": \"2.1\",\n",
      "    \"id\": \"file--bbf20f10-3d0b-5d1c-913e-e302e06749c5\",\n",
      "    \"size\": 25546,\n",
      "    \"name\": \"foo_A.dll\"\n",
      "}\n"
     ]
    }
   ],
   "source": [
    "# Setup Object\n",
    "file_A = File(name=\"foo_A.dll\", size=25546)\n",
    "\n",
    "#Setup Documentation\n",
    "print(file_A.serialize(pretty=True))\n",
    "names.append(\"A. Basic File Object\")\n",
    "midd_temp = '\\n        has $b;'\n",
    "middle.append(midd_temp)"
   ]
  },
  {
   "cell_type": "markdown",
   "id": "4040d26e",
   "metadata": {},
   "source": [
    "### B. Basic File with Granular Markings"
   ]
  },
  {
   "cell_type": "code",
   "execution_count": 145,
   "id": "c2d9a374",
   "metadata": {},
   "outputs": [
    {
     "name": "stdout",
     "output_type": "stream",
     "text": [
      "{\n",
      "    \"type\": \"file\",\n",
      "    \"spec_version\": \"2.1\",\n",
      "    \"id\": \"file--ea07da26-5db2-5cc9-9c83-f7fb53547253\",\n",
      "    \"size\": 25546,\n",
      "    \"name\": \"foo_B.dll\",\n",
      "    \"granular_markings\": [\n",
      "        {\n",
      "            \"marking_ref\": \"marking-definition--5e57c739-391a-4eb3-b6be-7d15ca92d5ed\",\n",
      "            \"selectors\": [\n",
      "                \"name\"\n",
      "            ]\n",
      "        }\n",
      "    ]\n",
      "}\n"
     ]
    }
   ],
   "source": [
    "# Setup Object\n",
    "file_B = File(name=\"foo_B.dll\", size=25546, granular_markings=name_gran_mark)\n",
    "\n",
    "#Setup Documentation\n",
    "print(file_B.serialize(pretty=True))\n",
    "names.append(\"B. Basic File with Granular Markings\")\n",
    "midd_temp = '\\n        has name $name,\\n        has $b;\\n      $mark isa marking-definition,\\n        has stix-id $mark_id;\\n      $gran (marking:$mark, object:$file, marked:$name) isa granular-marking;'\n",
    "middle.append(midd_temp)"
   ]
  },
  {
   "cell_type": "markdown",
   "id": "ca5418e9",
   "metadata": {},
   "source": [
    "### C. Basic File with Embedded References,"
   ]
  },
  {
   "cell_type": "code",
   "execution_count": 146,
   "id": "c0790b05",
   "metadata": {},
   "outputs": [
    {
     "name": "stdout",
     "output_type": "stream",
     "text": [
      "{\n",
      "    \"type\": \"file\",\n",
      "    \"spec_version\": \"2.1\",\n",
      "    \"id\": \"file--a1e4a735-583e-5490-8c3b-ce8f2048fb59\",\n",
      "    \"size\": 25546,\n",
      "    \"name\": \"foo_C.dll\",\n",
      "    \"parent_directory_ref\": \"directory--0a58d0c1-59e6-5afd-8252-dcd3f13e5622\"\n",
      "}\n"
     ]
    }
   ],
   "source": [
    "# Setup Object\n",
    "enclosing_dir = Directory(path=\"C:\\\\Windows\\\\System32\")\n",
    "file_C = File(name=\"foo_C.dll\", size=25546, parent_directory_ref=enclosing_dir)\n",
    "\n",
    "#Setup Documentation\n",
    "print(file_C.serialize(pretty=True))\n",
    "names.append(\"C. Basic File with Embedded References,\")\n",
    "midd_temp = '\\n        has $b;\\n      $sub isa stix-core-object\\n        has $c;\\n      $emb (owner:$file, pointed-to:$sub) isa embedded;\\n'\n",
    "middle.append(midd_temp)"
   ]
  },
  {
   "cell_type": "markdown",
   "id": "89f64897",
   "metadata": {},
   "source": [
    "### D. Basic File with Hashes"
   ]
  },
  {
   "cell_type": "code",
   "execution_count": 147,
   "id": "7822106a",
   "metadata": {},
   "outputs": [
    {
     "name": "stdout",
     "output_type": "stream",
     "text": [
      "{\n",
      "    \"type\": \"file\",\n",
      "    \"spec_version\": \"2.1\",\n",
      "    \"id\": \"file--e2269959-626d-5c26-974e-8961db0e2ab7\",\n",
      "    \"hashes\": {\n",
      "        \"MD5\": \"a92e5b2bae0b4b3a3d81c85610b95cd4\",\n",
      "        \"SHA-1\": \"5374e08903744ceeaedd8f5e1bfc06b2c4688e76\"\n",
      "    },\n",
      "    \"size\": 25546,\n",
      "    \"name\": \"foo_D.dll\"\n",
      "}\n"
     ]
    }
   ],
   "source": [
    "# Setup Object\n",
    "file_D = File(name=\"foo_D.dll\", size=25546, hashes=hash_dict1)\n",
    "\n",
    "#Setup Documentation\n",
    "print(file_D.serialize(pretty=True))\n",
    "names.append(\"D. Basic File with Hashes\")\n",
    "midd_temp = '\\n        has $b;\\n      $sub isa stix-sub-object\\n        has $c;\\n      $emb (owner:$file, pointed-to:$sub) isa embedded;\\n'\n",
    "middle.append(midd_temp)"
   ]
  },
  {
   "cell_type": "markdown",
   "id": "63f77e1a",
   "metadata": {},
   "source": [
    "### E. Basic File with Extension"
   ]
  },
  {
   "cell_type": "code",
   "execution_count": 148,
   "id": "827eba7a",
   "metadata": {},
   "outputs": [
    {
     "name": "stdout",
     "output_type": "stream",
     "text": [
      "{\n",
      "    \"type\": \"file\",\n",
      "    \"spec_version\": \"2.1\",\n",
      "    \"id\": \"file--8c2a130b-327d-51cf-a637-3ff9a969893f\",\n",
      "    \"size\": 25546,\n",
      "    \"name\": \"foo_E.dll\",\n",
      "    \"extensions\": {\n",
      "        \"pdf-ext\": {\n",
      "            \"version\": \"1.7\",\n",
      "            \"pdfid0\": \"DFCE52BD827ECF765649852119D\",\n",
      "            \"pdfid1\": \"57A1E0F9ED2AE523E313C\"\n",
      "        }\n",
      "    }\n",
      "}\n"
     ]
    }
   ],
   "source": [
    "# Setup Object\n",
    "pdf_ext = PDFExt(version=\"1.7\", pdfid0=\"DFCE52BD827ECF765649852119D\", pdfid1=\"57A1E0F9ED2AE523E313C\")\n",
    "file_E = File(name=\"foo_E.dll\", size=25546, extensions={\"pdf-ext\":pdf_ext})\n",
    "\n",
    "#Setup Documentation\n",
    "print(file_E.serialize(pretty=True))\n",
    "names.append(\"E. Basic File with Extension\")\n",
    "midd_temp = '\\n        has $b;\\n      $sub isa stix-sub-object,\\n        has $c;\\n      $emb (owner:$file, pointed-to:$sub) isa embedded;\\n'\n",
    "middle.append(midd_temp)"
   ]
  },
  {
   "cell_type": "markdown",
   "id": "878bb7ad",
   "metadata": {},
   "source": [
    "### F. Basic File with Extension, where Extension has Embedded Reference"
   ]
  },
  {
   "cell_type": "code",
   "execution_count": 149,
   "id": "d9bd172d",
   "metadata": {},
   "outputs": [
    {
     "name": "stdout",
     "output_type": "stream",
     "text": [
      "{\n",
      "    \"type\": \"file\",\n",
      "    \"spec_version\": \"2.1\",\n",
      "    \"id\": \"file--ffbdf8ea-92df-56f2-95ae-54801d106620\",\n",
      "    \"size\": 25546,\n",
      "    \"name\": \"foo_F.dll\",\n",
      "    \"mime_type\": \"application/zip\",\n",
      "    \"extensions\": {\n",
      "        \"archive-ext\": {\n",
      "            \"contains_refs\": [\n",
      "                \"file--bbf20f10-3d0b-5d1c-913e-e302e06749c5\",\n",
      "                \"file--ea07da26-5db2-5cc9-9c83-f7fb53547253\",\n",
      "                \"file--a1e4a735-583e-5490-8c3b-ce8f2048fb59\"\n",
      "            ],\n",
      "            \"comment\": \"Zip Archive\"\n",
      "        }\n",
      "    }\n",
      "}\n"
     ]
    }
   ],
   "source": [
    "# Setup Object\n",
    "cont_refs = [file_A.id, file_B.id, file_C.id]\n",
    "archive_ext = ArchiveExt(contains_refs=cont_refs,comment=\"Zip Archive\")\n",
    "file_F = File(name=\"foo_F.dll\", size=25546, mime_type=\"application/zip\", extensions={\"archive-ext\":archive_ext})\n",
    "\n",
    "#Setup Documentation\n",
    "print(file_F.serialize(pretty=True))\n",
    "names.append(\"F. Basic File with Extension, where Extension has Embedded Reference¶\")\n",
    "midd_temp = '\\n        has $b;\\n      $sub isa stix-sub-object,\\n        has $c;\\n      $emb (owner:$file, pointed-to:$sub) isa embedded;\\n      $core isa stix-cyber-observable-object,\\n        has stix-id $stix_id;\\n      $emb2 (owner:$sub, pointed-to:$core) isa embedded;\\n'\n",
    "middle.append(midd_temp)"
   ]
  },
  {
   "cell_type": "markdown",
   "id": "b5f29b73",
   "metadata": {},
   "source": [
    "### G. Basic File with Extension, where Extension has Hashes"
   ]
  },
  {
   "cell_type": "code",
   "execution_count": 150,
   "id": "aa8177cb",
   "metadata": {},
   "outputs": [
    {
     "name": "stdout",
     "output_type": "stream",
     "text": [
      "{\n",
      "    \"type\": \"file\",\n",
      "    \"spec_version\": \"2.1\",\n",
      "    \"id\": \"file--7e7a3aa4-6c53-5dc8-927e-9256e3740d99\",\n",
      "    \"size\": 25546,\n",
      "    \"name\": \"foo_G.dll\",\n",
      "    \"extensions\": {\n",
      "        \"windows-pebinary-ext\": {\n",
      "            \"pe_type\": \"exe\",\n",
      "            \"machine_hex\": \"014c\",\n",
      "            \"pointer_to_symbol_table_hex\": \"74726144\",\n",
      "            \"file_header_hashes\": {\n",
      "                \"MD5\": \"a92e5b2bae0b4b3a3d81c85610b95cd4\",\n",
      "                \"SHA-1\": \"5374e08903744ceeaedd8f5e1bfc06b2c4688e76\"\n",
      "            }\n",
      "        }\n",
      "    }\n",
      "}\n"
     ]
    }
   ],
   "source": [
    "# Setup Object\n",
    "win_bin_ext1 = WindowsPEBinaryExt(pe_type=\"exe\", machine_hex=\"014c\", pointer_to_symbol_table_hex=\"74726144\", file_header_hashes=hash_dict1)\n",
    "file_G = File(name=\"foo_G.dll\", size=25546, extensions={\"windows-pebinary-ext\":win_bin_ext1})\n",
    "\n",
    "#Setup Documentation\n",
    "print(file_G.serialize(pretty=True))\n",
    "names.append(\"G. Basic File with Extension, where Extension has Hashes\")\n",
    "midd_temp = '\\n        has $b;\\n      $sub isa stix-sub-object,\\n        has $c;\\n      $ext (owner:$file, pointed-to:$sub) isa embedded;\\n      $hash isa stix-sub-object,\\n        has $d;\\n      $emb2 (owner:$sub, pointed-to:$hash) isa embedded;\\n'\n",
    "middle.append(midd_temp)"
   ]
  },
  {
   "cell_type": "markdown",
   "id": "206b0213",
   "metadata": {},
   "source": [
    "### H. Basic File with Extension, where Extension has embedded dict"
   ]
  },
  {
   "cell_type": "code",
   "execution_count": 151,
   "id": "304ce2c1",
   "metadata": {},
   "outputs": [
    {
     "name": "stdout",
     "output_type": "stream",
     "text": [
      "{\n",
      "    \"type\": \"file\",\n",
      "    \"spec_version\": \"2.1\",\n",
      "    \"id\": \"file--f4e96608-8a92-5d6d-b15a-7099816882e7\",\n",
      "    \"size\": 25546,\n",
      "    \"name\": \"foo_H.dll\",\n",
      "    \"extensions\": {\n",
      "        \"raster-image-ext\": {\n",
      "            \"image_height\": 3264,\n",
      "            \"image_width\": 4928,\n",
      "            \"exif_tags\": {\n",
      "                \"Make\": \"Nikon\",\n",
      "                \"Model\": \"D7000\"\n",
      "            }\n",
      "        }\n",
      "    }\n",
      "}\n"
     ]
    }
   ],
   "source": [
    "# Setup Object\n",
    "exif_tags=  {\n",
    "        \"Make\": \"Nikon\",\n",
    "        \"Model\": \"D7000\"\n",
    "}\n",
    "raster_ext = RasterImageExt(image_height=3264, image_width=4928, exif_tags=exif_tags)\n",
    "file_H = File(name=\"foo_H.dll\", size=25546, extensions={\"raster-image-ext\":raster_ext})\n",
    "\n",
    "#Setup Documentation\n",
    "print(file_H.serialize(pretty=True))\n",
    "names.append(\"H. Basic File with Extension, where Extension has embedded dict\")\n",
    "midd_temp = '\\n        has $b;\\n      $sub isa stix-sub-object,\\n        has $c;\\n      $ext (owner:$file, pointed-to:$sub) isa embedded;\\n      $dict_key isa stix-attribute-string,\\n       has $dict_value;\\n      $emb2 (owner:$sub, pointed-to:$dict_key) isa embedded;\\n'\n",
    "middle.append(midd_temp)"
   ]
  },
  {
   "cell_type": "markdown",
   "id": "ed78c3a2",
   "metadata": {},
   "source": [
    "### I. Basic File with Extension, where Extension has sub-object"
   ]
  },
  {
   "cell_type": "code",
   "execution_count": 152,
   "id": "73bc0fcc",
   "metadata": {},
   "outputs": [
    {
     "name": "stdout",
     "output_type": "stream",
     "text": [
      "{\n",
      "    \"type\": \"file\",\n",
      "    \"spec_version\": \"2.1\",\n",
      "    \"id\": \"file--85ffbf0b-3ba1-55f6-bb35-311c6a26d879\",\n",
      "    \"size\": 25546,\n",
      "    \"name\": \"foo_I.dll\",\n",
      "    \"extensions\": {\n",
      "        \"windows-pebinary-ext\": {\n",
      "            \"pe_type\": \"exe\",\n",
      "            \"machine_hex\": \"014c\",\n",
      "            \"pointer_to_symbol_table_hex\": \"74726144\",\n",
      "            \"size_of_optional_header\": 224,\n",
      "            \"optional_header\": {\n",
      "                \"magic_hex\": \"010b\",\n",
      "                \"size_of_code\": 512,\n",
      "                \"address_of_entry_point\": 4096,\n",
      "                \"base_of_data\": 8192,\n",
      "                \"subsystem_hex\": \"03\",\n",
      "                \"loader_flags_hex\": \"abdbffde\"\n",
      "            }\n",
      "        }\n",
      "    }\n",
      "}\n"
     ]
    }
   ],
   "source": [
    "# Setup Object\n",
    "win_header = WindowsPEOptionalHeaderType(magic_hex=\"010b\", size_of_code=512, address_of_entry_point=4096, base_of_data=8192, loader_flags_hex=\"abdbffde\", subsystem_hex=\"03\")\n",
    "win_bin_ext2 = WindowsPEBinaryExt(pe_type=\"exe\", machine_hex=\"014c\", pointer_to_symbol_table_hex=\"74726144\", size_of_optional_header=224, optional_header=win_header)\n",
    "file_I = File(name=\"foo_I.dll\", size=25546, extensions={\"windows-pebinary-ext\":win_bin_ext2})\n",
    "\n",
    "#Setup Documentation\n",
    "print(file_I.serialize(pretty=True))\n",
    "names.append(\"I. Basic File with Extension, where Extension has sub-object\")\n",
    "midd_temp = '\\n        has $b;\\n      $sub isa stix-sub-object,\\n        has $c;\\n      $ext (owner:$file, pointed-to:$sub) isa embedded;\\n      $sub isa stix-sub-object,\\n        has $d;\\n      $emb2 (owner:$sub, pointed-to:$sub) isa embedded;\\n'\n",
    "middle.append(midd_temp)"
   ]
  },
  {
   "cell_type": "markdown",
   "id": "2c18dd61",
   "metadata": {},
   "source": [
    "### J. Basic File with Extension, where Extension has list of sub-objects"
   ]
  },
  {
   "cell_type": "code",
   "execution_count": 153,
   "id": "119cb4b4",
   "metadata": {},
   "outputs": [
    {
     "name": "stdout",
     "output_type": "stream",
     "text": [
      "{\n",
      "    \"type\": \"file\",\n",
      "    \"spec_version\": \"2.1\",\n",
      "    \"id\": \"file--d6ee02fa-f8b0-5c12-b220-3b65479d464b\",\n",
      "    \"size\": 25546,\n",
      "    \"name\": \"foo_J.dll\",\n",
      "    \"extensions\": {\n",
      "        \"windows-pebinary-ext\": {\n",
      "            \"pe_type\": \"exe\",\n",
      "            \"machine_hex\": \"014c\",\n",
      "            \"number_of_sections\": 2,\n",
      "            \"pointer_to_symbol_table_hex\": \"74726144\",\n",
      "            \"sections\": [\n",
      "                {\n",
      "                    \"name\": \"CODE\",\n",
      "                    \"entropy\": 0.061089\n",
      "                },\n",
      "                {\n",
      "                    \"name\": \"DATA\",\n",
      "                    \"entropy\": 7.980693\n",
      "                }\n",
      "            ]\n",
      "        }\n",
      "    }\n",
      "}\n"
     ]
    }
   ],
   "source": [
    "# Setup Object\n",
    "section1 = WindowsPESection(name=\"CODE\", entropy=0.061089)\n",
    "section2 = WindowsPESection(name=\"DATA\", entropy=7.980693) \n",
    "win_bin_ext3 = WindowsPEBinaryExt(pe_type=\"exe\", machine_hex=\"014c\", pointer_to_symbol_table_hex=\"74726144\", number_of_sections=2, sections=[section1, section2])\n",
    "file_J = File(name=\"foo_J.dll\", size=25546, extensions={\"windows-pebinary-ext\":win_bin_ext3})\n",
    "\n",
    "#Setup Documentation\n",
    "print(file_J.serialize(pretty=True))\n",
    "names.append(\"J. Basic File with Extension, where Extension has list of sub-objects\")\n",
    "midd_temp = '\\n        has $b;\\n      $sub isa stix-sub-object,\\n        has $c;\\n      $ext (owner:$file, pointed-to:$sub) isa embedded;\\n      $sub isa stix-sub-object,\\n        has $d;\\n      $emb2 (owner:$sub, pointed-to:$sub) isa embedded;\\n'\n",
    "middle.append(midd_temp)"
   ]
  },
  {
   "cell_type": "markdown",
   "id": "8b9c4dca",
   "metadata": {},
   "source": [
    "### K. Basic File with Extension, where Extension has list of sub-objects that contain hashes"
   ]
  },
  {
   "cell_type": "code",
   "execution_count": 154,
   "id": "58453232",
   "metadata": {},
   "outputs": [
    {
     "name": "stdout",
     "output_type": "stream",
     "text": [
      "{\n",
      "    \"type\": \"file\",\n",
      "    \"spec_version\": \"2.1\",\n",
      "    \"id\": \"file--39f167a3-09a9-524c-9dac-3b1b2a02609b\",\n",
      "    \"size\": 25546,\n",
      "    \"name\": \"foo_K.dll\",\n",
      "    \"extensions\": {\n",
      "        \"ntfs-ext\": {\n",
      "            \"sid\": \"1234567\",\n",
      "            \"alternate_data_streams\": [\n",
      "                {\n",
      "                    \"name\": \"first.stream\",\n",
      "                    \"hashes\": {\n",
      "                        \"MD5\": \"a92e5b2bae0b4b3a3d81c85610b95cd4\",\n",
      "                        \"SHA-1\": \"5374e08903744ceeaedd8f5e1bfc06b2c4688e76\"\n",
      "                    },\n",
      "                    \"size\": 25536\n",
      "                }\n",
      "            ]\n",
      "        }\n",
      "    }\n",
      "}\n"
     ]
    }
   ],
   "source": [
    "\n",
    "#Setup Object\n",
    "hash_dict2 = {\n",
    "    \"SHA-256\": \"35a01331e9ad96f751278b891b6ea09699806faedfa237d40513d92ad1b7100f\"\n",
    "  }\n",
    "alt_data_stream1 = AlternateDataStream(name=\"first.stream\", size=25536, hashes=hash_dict1)\n",
    "#alt_data_stream2 = AlternateDataStream(name=\"second.stream\", size=25536, hashes=hash_dict2)\n",
    "ntfs_ext = NTFSExt(sid=\"1234567\", alternate_data_streams=[alt_data_stream1])\n",
    "file_K = File(name=\"foo_K.dll\", size=25546, extensions={\"ntfs-ext\":ntfs_ext})\n",
    "\n",
    "#Setup Documentation\n",
    "print(file_K.serialize(pretty=True))\n",
    "names.append(\"K. Basic File with Extension, where Extension has list of sub-objects that contain hashes\")\n",
    "midd_temp = '\\n        has $b;\\n      $ext_sub isa stix-sub-object,\\n        has $c;\\n      $ext (owner:$file, pointed-to:$ext_sub) isa embedded;\\n      $alt isa stix-sub-object,\\n       has $d;\\n      $emb2 (owner:$ext_sub, pointed-to:$alt) isa embedded;\\n    $hash isa stix-sub-object,\\n        has $e;\\n      $emb3(owner:$alt, pointed-to:$hash) isa embedded;\\n'\n",
    "middle.append(midd_temp)"
   ]
  },
  {
   "cell_type": "markdown",
   "id": "0e719f31",
   "metadata": {},
   "source": [
    "## 5. Add Objects to TypeDB"
   ]
  },
  {
   "cell_type": "code",
   "execution_count": 155,
   "id": "74735b66",
   "metadata": {},
   "outputs": [
    {
     "name": "stdout",
     "output_type": "stream",
     "text": [
      "--------- importing 1 from 12 ----------------\n",
      "{\"id\":\"file--bbf20f10-3d0b-5d1c-913e-e302e06749c5\",\"status\":\"success\",\"error\":null,\"message\":null}\n",
      "--------- importing 2 from 12 ----------------\n",
      "{\"id\":\"file--ea07da26-5db2-5cc9-9c83-f7fb53547253\",\"status\":\"success\",\"error\":null,\"message\":null}\n",
      "--------- importing 3 from 12 ----------------\n",
      "{\"id\":\"file--a1e4a735-583e-5490-8c3b-ce8f2048fb59\",\"status\":\"success\",\"error\":null,\"message\":null}\n",
      "--------- importing 4 from 12 ----------------\n",
      "{\"id\":\"file--e2269959-626d-5c26-974e-8961db0e2ab7\",\"status\":\"success\",\"error\":null,\"message\":null}\n",
      "--------- importing 5 from 12 ----------------\n",
      "{\"id\":\"directory--0a58d0c1-59e6-5afd-8252-dcd3f13e5622\",\"status\":\"success\",\"error\":null,\"message\":null}\n",
      "--------- importing 6 from 12 ----------------\n",
      "{\"id\":\"file--8c2a130b-327d-51cf-a637-3ff9a969893f\",\"status\":\"success\",\"error\":null,\"message\":null}\n",
      "--------- importing 7 from 12 ----------------\n",
      "{\"id\":\"file--ffbdf8ea-92df-56f2-95ae-54801d106620\",\"status\":\"success\",\"error\":null,\"message\":null}\n",
      "--------- importing 8 from 12 ----------------\n",
      "{\"id\":\"file--7e7a3aa4-6c53-5dc8-927e-9256e3740d99\",\"status\":\"success\",\"error\":null,\"message\":null}\n",
      "--------- importing 9 from 12 ----------------\n",
      "{\"id\":\"file--f4e96608-8a92-5d6d-b15a-7099816882e7\",\"status\":\"success\",\"error\":null,\"message\":null}\n",
      "--------- importing 10 from 12 ----------------\n",
      "{\"id\":\"file--85ffbf0b-3ba1-55f6-bb35-311c6a26d879\",\"status\":\"success\",\"error\":null,\"message\":null}\n",
      "--------- importing 11 from 12 ----------------\n",
      "{\"id\":\"file--d6ee02fa-f8b0-5c12-b220-3b65479d464b\",\"status\":\"success\",\"error\":null,\"message\":null}\n",
      "--------- importing 12 from 12 ----------------\n",
      "{\"id\":\"file--39f167a3-09a9-524c-9dac-3b1b2a02609b\",\"status\":\"success\",\"error\":null,\"message\":null}\n"
     ]
    }
   ],
   "source": [
    "# Set Objects into Bundle\n",
    "bundle = Bundle(file_A, file_B, file_C, file_D, enclosing_dir, file_E, file_F, file_G, file_H, file_I, file_J, file_K)\n",
    "\n",
    "# Setup Connection for TypeDB\n",
    "connection = {\n",
    "    \"uri\": \"localhost\",\n",
    "    \"port\": \"1729\",\n",
    "    \"database\": \"stix\",\n",
    "    \"user\": None,\n",
    "    \"password\": None\n",
    "}\n",
    "\n",
    "# Initialise TypeDB\n",
    "reinitilise = True\n",
    "typedb = TypeDBSink(connection=connection, clear=reinitilise, import_type=import_type)\n",
    "\n",
    "# add the bundle to TypeDB\n",
    "results_raw = typedb.add(bundle)\n",
    "result_list = [res.model_dump_json() for res in results_raw]\n",
    "length = len(result_list)\n",
    "for i, result in enumerate(result_list):\n",
    "    print(f\"--------- importing {i+1} from {length} ----------------\")\n",
    "    print(result)"
   ]
  },
  {
   "cell_type": "markdown",
   "id": "aee96643-039b-4707-a18a-a8d08130d5d4",
   "metadata": {},
   "source": [
    "# 6. Create Studio Query Variations Using Class Hierarchy\n",
    "\n",
    "# 6.1 Create Common Begining and End"
   ]
  },
  {
   "cell_type": "code",
   "execution_count": 156,
   "id": "d853ff23-7d80-4e08-bd45-7f7b7f058df5",
   "metadata": {},
   "outputs": [
    {
     "name": "stdout",
     "output_type": "stream",
     "text": [
      "#######################################################################################\n",
      "                      Use These Queries in TypeDB Studio\n",
      "#######################################################################################\n",
      "----------------------------------------------------------------------------------\n",
      "                        A. Basic File Object    1 in len(middle)\n",
      "----------------------------------------------------------------------------------\n",
      "&&&&&&&&&&&&&&&&&&&&&&&&& Studio Match Statement &&&&&&&&&&&&&&&&&&&&&&&&&&&&&&&&&&&\n",
      "match\n",
      "      $file isa a file, \n",
      "        has stix-id \"file--bbf20f10-3d0b-5d1c-913e-e302e06749c5\", \n",
      "        has $b;      get;\n",
      " \n",
      "----------------------------------------------------------------------------------\n",
      "                        B. Basic File with Granular Markings    2 in len(middle)\n",
      "----------------------------------------------------------------------------------\n",
      "&&&&&&&&&&&&&&&&&&&&&&&&& Studio Match Statement &&&&&&&&&&&&&&&&&&&&&&&&&&&&&&&&&&&\n",
      "match\n",
      "      $file isa a file, \n",
      "        has stix-id \"file--ea07da26-5db2-5cc9-9c83-f7fb53547253\", \n",
      "        has name $name,\n",
      "        has $b;\n",
      "      $mark isa marking-definition,\n",
      "        has stix-id $mark_id;\n",
      "      $gran (marking:$mark, object:$file, marked:$name) isa granular-marking;      get;\n",
      " \n",
      "----------------------------------------------------------------------------------\n",
      "                        C. Basic File with Embedded References,    3 in len(middle)\n",
      "----------------------------------------------------------------------------------\n",
      "&&&&&&&&&&&&&&&&&&&&&&&&& Studio Match Statement &&&&&&&&&&&&&&&&&&&&&&&&&&&&&&&&&&&\n",
      "match\n",
      "      $file isa a file, \n",
      "        has stix-id \"file--a1e4a735-583e-5490-8c3b-ce8f2048fb59\", \n",
      "        has $b;\n",
      "      $core isa stix-core-object,\n",
      "        has stix-id $stix_id2;\n",
      "      $emb (owner:$file, pointed-to:$core) isa embedded;\n",
      "      get;\n",
      " \n",
      "----------------------------------------------------------------------------------\n",
      "                        D. Basic File with Hashes    4 in len(middle)\n",
      "----------------------------------------------------------------------------------\n",
      "&&&&&&&&&&&&&&&&&&&&&&&&& Studio Match Statement &&&&&&&&&&&&&&&&&&&&&&&&&&&&&&&&&&&\n",
      "match\n",
      "      $file isa a file, \n",
      "        has stix-id \"file--e2269959-626d-5c26-974e-8961db0e2ab7\", \n",
      "        has $b;\n",
      "      $sub isa stix-sub-object,\n",
      "        has $c;\n",
      "      $emb (owner:$file, pointed-to:$sub) isa embedded;\n",
      "      get;\n",
      " \n",
      "----------------------------------------------------------------------------------\n",
      "                        E. Basic File with Extension    5 in len(middle)\n",
      "----------------------------------------------------------------------------------\n",
      "&&&&&&&&&&&&&&&&&&&&&&&&& Studio Match Statement &&&&&&&&&&&&&&&&&&&&&&&&&&&&&&&&&&&\n",
      "match\n",
      "      $file isa a file, \n",
      "        has stix-id \"directory--0a58d0c1-59e6-5afd-8252-dcd3f13e5622\", \n",
      "        has $b;\n",
      "      $sub isa stix-sub-object,\n",
      "        has $c;\n",
      "      $emb (owner:$file, pointed-to:$sub) isa embedded;\n",
      "      get;\n",
      " \n",
      "----------------------------------------------------------------------------------\n",
      "                        F. Basic File with Extension, where Extension has Embedded Reference¶    6 in len(middle)\n",
      "----------------------------------------------------------------------------------\n",
      "&&&&&&&&&&&&&&&&&&&&&&&&& Studio Match Statement &&&&&&&&&&&&&&&&&&&&&&&&&&&&&&&&&&&\n",
      "match\n",
      "      $file isa a file, \n",
      "        has stix-id \"file--8c2a130b-327d-51cf-a637-3ff9a969893f\", \n",
      "        has $b;\n",
      "      $sub isa stix-sub-object,\n",
      "        has $c;\n",
      "      $emb (owner:$file, pointed-to:$sub) isa embedded;\n",
      "      $core isa stix-core-object,\n",
      "        has stix-id $stix_id2;\n",
      "      $emb2 (owner:$sub, pointed-to:$core) isa embedded;\n",
      "      get;\n",
      " \n",
      "----------------------------------------------------------------------------------\n",
      "                        G. Basic File with Extension, where Extension has Hashes    7 in len(middle)\n",
      "----------------------------------------------------------------------------------\n",
      "&&&&&&&&&&&&&&&&&&&&&&&&& Studio Match Statement &&&&&&&&&&&&&&&&&&&&&&&&&&&&&&&&&&&\n",
      "match\n",
      "      $file isa a file, \n",
      "        has stix-id \"file--ffbdf8ea-92df-56f2-95ae-54801d106620\", \n",
      "        has $b;\n",
      "      $sub isa stix-sub-object,\n",
      "        has $c;\n",
      "      $emb (owner:$file, pointed-to:$sub) isa embedded;\n",
      "      $hash isa stix-sub-object,\n",
      "        has $d;\n",
      "      $emb2 (owner:$sub, pointed-to:$hash) isa embedded;\n",
      "      get;\n",
      " \n",
      "----------------------------------------------------------------------------------\n",
      "                        H. Basic File with Extension, where Extension has embedded dict    8 in len(middle)\n",
      "----------------------------------------------------------------------------------\n",
      "&&&&&&&&&&&&&&&&&&&&&&&&& Studio Match Statement &&&&&&&&&&&&&&&&&&&&&&&&&&&&&&&&&&&\n",
      "match\n",
      "      $file isa a file, \n",
      "        has stix-id \"file--7e7a3aa4-6c53-5dc8-927e-9256e3740d99\", \n",
      "        has $b;\n",
      "      $sub isa stix-sub-object,\n",
      "        has $c;\n",
      "      $emb (owner:$file, pointed-to:$sub) isa embedded;\n",
      "      $dict_key isa stix-attribute-string,\n",
      "        has $d;\n",
      "      $emb2 (owner:$sub, pointed-to:$dict_key) isa embedded;\n",
      "      get;\n",
      " \n",
      "----------------------------------------------------------------------------------\n",
      "                        I. Basic File with Extension, where Extension has sub-object    9 in len(middle)\n",
      "----------------------------------------------------------------------------------\n",
      "&&&&&&&&&&&&&&&&&&&&&&&&& Studio Match Statement &&&&&&&&&&&&&&&&&&&&&&&&&&&&&&&&&&&\n",
      "match\n",
      "      $file isa a file, \n",
      "        has stix-id \"file--f4e96608-8a92-5d6d-b15a-7099816882e7\", \n",
      "        has $b;\n",
      "      $sub isa stix-sub-object,\n",
      "        has $c;\n",
      "      $emb (owner:$file, pointed-to:$sub) isa embedded;\n",
      "      $sub2 isa stix-sub-object,\n",
      "        has $d;\n",
      "      $emb2 (owner:$sub, pointed-to:$sub2) isa embedded;\n",
      "      get;\n",
      " \n",
      "----------------------------------------------------------------------------------\n",
      "                        J. Basic File with Extension, where Extension has list of sub-objects    10 in len(middle)\n",
      "----------------------------------------------------------------------------------\n",
      "&&&&&&&&&&&&&&&&&&&&&&&&& Studio Match Statement &&&&&&&&&&&&&&&&&&&&&&&&&&&&&&&&&&&\n",
      "match\n",
      "      $file isa a file, \n",
      "        has stix-id \"file--85ffbf0b-3ba1-55f6-bb35-311c6a26d879\", \n",
      "        has $b;\n",
      "      $sub isa stix-sub-object,\n",
      "        has $c;\n",
      "      $emb (owner:$file, pointed-to:$sub) isa embedded;\n",
      "      $sub2 isa stix-sub-object,\n",
      "        has $d;\n",
      "      $emb2 (owner:$sub, pointed-to:$sub2) isa embedded;\n",
      "      get;\n",
      " \n",
      "----------------------------------------------------------------------------------\n",
      "                        K. Basic File with Extension, where Extension has list of sub-objects that contain hashes    11 in len(middle)\n",
      "----------------------------------------------------------------------------------\n",
      "&&&&&&&&&&&&&&&&&&&&&&&&& Studio Match Statement &&&&&&&&&&&&&&&&&&&&&&&&&&&&&&&&&&&\n",
      "match\n",
      "      $file isa a file, \n",
      "        has stix-id \"file--d6ee02fa-f8b0-5c12-b220-3b65479d464b\", \n",
      "        has $b;\n",
      "      $ext_sub isa stix-sub-object,\n",
      "        has $c;\n",
      "      $ext (owner:$file, pointed-to:$ext_sub) isa embedded;\n",
      "      $alt isa stix-sub-object,\n",
      "        has $d;\n",
      "      $emb2 (owner:$sub, pointed-to:$alt) isa embedded;\n",
      "      $hash isa stix-sub-object,\n",
      "        has $d;\n",
      "      $emb3 (owner:$alt, pointed-to:$hash) isa embedded;\n",
      "      get;\n",
      " \n"
     ]
    }
   ],
   "source": [
    "begining = 'match\\n      $file isa a file, \\n        has stix-id \"'\n",
    "suffix = '\", '\n",
    "end = '      get;'\n",
    "import json\n",
    "middle = []\n",
    "# A\n",
    "midd_temp = '\\n        has $b;'\n",
    "middle.append(midd_temp)\n",
    "# B\n",
    "midd_temp = '\\n        has name $name,\\n        has $b;\\n      $mark isa marking-definition,\\n        has stix-id $mark_id;\\n      $gran (marking:$mark, object:$file, marked:$name) isa granular-marking;'\n",
    "middle.append(midd_temp)\n",
    "# C\n",
    "midd_temp = '\\n        has $b;\\n      $core isa stix-core-object,\\n        has stix-id $stix_id2;\\n      $emb (owner:$file, pointed-to:$core) isa embedded;\\n'\n",
    "middle.append(midd_temp)\n",
    "# D\n",
    "midd_temp = '\\n        has $b;\\n      $sub isa stix-sub-object,\\n        has $c;\\n      $emb (owner:$file, pointed-to:$sub) isa embedded;\\n'\n",
    "middle.append(midd_temp)\n",
    "# E\n",
    "midd_temp = '\\n        has $b;\\n      $sub isa stix-sub-object,\\n        has $c;\\n      $emb (owner:$file, pointed-to:$sub) isa embedded;\\n'\n",
    "middle.append(midd_temp)\n",
    "#F\n",
    "midd_temp = '\\n        has $b;\\n      $sub isa stix-sub-object,\\n        has $c;\\n      $emb (owner:$file, pointed-to:$sub) isa embedded;'\n",
    "midd_temp += '\\n      $core isa stix-core-object,\\n        has stix-id $stix_id2;\\n      $emb2 (owner:$sub, pointed-to:$core) isa embedded;\\n'\n",
    "middle.append(midd_temp)\n",
    "# G\n",
    "midd_temp = '\\n        has $b;\\n      $sub isa stix-sub-object,\\n        has $c;\\n      $emb (owner:$file, pointed-to:$sub) isa embedded;'\n",
    "midd_temp += '\\n      $hash isa stix-sub-object,\\n        has $d;\\n      $emb2 (owner:$sub, pointed-to:$hash) isa embedded;\\n'\n",
    "middle.append(midd_temp)\n",
    "#H\n",
    "midd_temp = '\\n        has $b;\\n      $sub isa stix-sub-object,\\n        has $c;\\n      $emb (owner:$file, pointed-to:$sub) isa embedded;'\n",
    "midd_temp += '\\n      $dict_key isa stix-attribute-string,\\n        has $d;\\n      $emb2 (owner:$sub, pointed-to:$dict_key) isa embedded;\\n'\n",
    "middle.append(midd_temp)\n",
    "# I\n",
    "midd_temp = '\\n        has $b;\\n      $sub isa stix-sub-object,\\n        has $c;\\n      $emb (owner:$file, pointed-to:$sub) isa embedded;'\n",
    "midd_temp += '\\n      $sub2 isa stix-sub-object,\\n        has $d;\\n      $emb2 (owner:$sub, pointed-to:$sub2) isa embedded;\\n'\n",
    "middle.append(midd_temp)\n",
    "# J\n",
    "midd_temp = '\\n        has $b;\\n      $sub isa stix-sub-object,\\n        has $c;\\n      $emb (owner:$file, pointed-to:$sub) isa embedded;'\n",
    "midd_temp += '\\n      $sub2 isa stix-sub-object,\\n        has $d;\\n      $emb2 (owner:$sub, pointed-to:$sub2) isa embedded;\\n'\n",
    "middle.append(midd_temp)\n",
    "# K\n",
    "midd_temp = '\\n        has $b;\\n      $ext_sub isa stix-sub-object,\\n        has $c;\\n      $ext (owner:$file, pointed-to:$ext_sub) isa embedded;'\n",
    "midd_temp += '\\n      $alt isa stix-sub-object,\\n        has $d;\\n      $emb2 (owner:$sub, pointed-to:$alt) isa embedded;'\n",
    "midd_temp += '\\n      $hash isa stix-sub-object,\\n        has $d;\\n      $emb3 (owner:$alt, pointed-to:$hash) isa embedded;\\n'\n",
    "middle.append(midd_temp)\n",
    "\n",
    "print(\"#######################################################################################\")\n",
    "print(\"                      Use These Queries in TypeDB Studio\")\n",
    "print(\"#######################################################################################\")\n",
    "\n",
    "for i, mid in enumerate(middle):\n",
    "    match = begining + json.loads(result_list[i])[\"id\"] +suffix + mid + end\n",
    "    print(\"----------------------------------------------------------------------------------\")\n",
    "    print(f\"                        {names[i]}    {i+1} in len(middle)\")\n",
    "    print(\"----------------------------------------------------------------------------------\")\n",
    "    print(f\"&&&&&&&&&&&&&&&&&&&&&&&&& Studio Match Statement &&&&&&&&&&&&&&&&&&&&&&&&&&&&&&&&&&&\")\n",
    "    print(match)\n",
    "    print(\" \")"
   ]
  },
  {
   "cell_type": "code",
   "execution_count": null,
   "id": "a8ec6ccd-8748-4757-9297-a359e5c20ec6",
   "metadata": {},
   "outputs": [],
   "source": []
  }
 ],
 "metadata": {
  "kernelspec": {
   "display_name": "Python 3 (ipykernel)",
   "language": "python",
   "name": "python3"
  },
  "language_info": {
   "codemirror_mode": {
    "name": "ipython",
    "version": 3
   },
   "file_extension": ".py",
   "mimetype": "text/x-python",
   "name": "python",
   "nbconvert_exporter": "python",
   "pygments_lexer": "ipython3",
   "version": "3.11.3"
  }
 },
 "nbformat": 4,
 "nbformat_minor": 5
}
